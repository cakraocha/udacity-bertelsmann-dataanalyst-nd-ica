{
 "cells": [
  {
   "cell_type": "markdown",
   "metadata": {},
   "source": [
    "# This is a Header\n",
    "## Writing Markdown\n",
    "\n",
    "This is a [link to the Markdown documentation.]\n",
    "(https://daringfireball.net/projects/markdown/)\n",
    "\n",
    "You can emphasize text with *italics* or **boldness**. So __bold__.\n",
    "\n",
    "Writing code is easy here too with backsticks: `import gravity`.\n",
    "    \n",
    "    import gravity\n",
    "    code = block\n",
    "\n",
    "And write $\\LaTeX$ (LaTeX) too. How about some inline math $y = mx + b$, and a math block\n",
    "\n",
    "$$\n",
    "e^x = \\sum_{n=0}^{\\infty}\\frac{x^n}{x!}\n",
    "$$"
   ]
  },
  {
   "cell_type": "code",
   "execution_count": null,
   "metadata": {},
   "outputs": [],
   "source": []
  }
 ],
 "metadata": {
  "kernelspec": {
   "display_name": "Python 3",
   "language": "python",
   "name": "python3"
  },
  "language_info": {
   "codemirror_mode": {
    "name": "ipython",
    "version": 3
   },
   "file_extension": ".py",
   "mimetype": "text/x-python",
   "name": "python",
   "nbconvert_exporter": "python",
   "pygments_lexer": "ipython3",
   "version": "3.6.4"
  }
 },
 "nbformat": 4,
 "nbformat_minor": 2
}
