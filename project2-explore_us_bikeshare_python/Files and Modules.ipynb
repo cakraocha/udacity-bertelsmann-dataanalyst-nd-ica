{
 "cells": [
  {
   "cell_type": "code",
   "execution_count": null,
   "metadata": {},
   "outputs": [],
   "source": [
    "#Tuples\n",
    "def first_and_last(sequence):\n",
    "    \"\"\"returns the first and last elements of a sequence\"\"\"\n",
    "    return sequence[0], sequence[-1]\n",
    "first_and_last([\"Spam\", \"egg\", \"sausage\", \"Spam\"])\n",
    "('Spam', 'Spam')\n",
    "start, end = first_and_last([\"Spam\", \"egg\", \"sausage\", \"Spam\"])\n",
    "print(start)\n",
    "print(end)"
   ]
  },
  {
   "cell_type": "code",
   "execution_count": 5,
   "metadata": {},
   "outputs": [
    {
     "name": "stdout",
     "output_type": "stream",
     "text": [
      "(416, 16)\n"
     ]
    }
   ],
   "source": [
    "def hours2days(time):\n",
    "    day = time // 24\n",
    "    hour = time % 24\n",
    "    if time <= 24:\n",
    "        return(time, 0)\n",
    "    else:\n",
    "        return(day, hour)\n",
    "\n",
    "print(hours2days(10000))"
   ]
  },
  {
   "cell_type": "code",
   "execution_count": 10,
   "metadata": {},
   "outputs": [
    {
     "name": "stdout",
     "output_type": "stream",
     "text": [
      "- cats\n",
      "- in\n",
      "- space\n"
     ]
    }
   ],
   "source": [
    "def print_list(l, numbered=False, bullet_character='-'):\n",
    "    \"\"\"Prints a list on multiple lines, with numbers or bullets\n",
    "    \n",
    "    Arguments:\n",
    "    l: The list to print\n",
    "    numbered: set to True to print a numbered list\n",
    "    bullet_character: The symbol placed before each list element. This is\n",
    "                      ignored if numbered is True.\n",
    "    \"\"\"\n",
    "    for index, element in enumerate(l):\n",
    "        if numbered:\n",
    "            print(\"{}: {}\".format(index+1, element))\n",
    "        else:\n",
    "            print(\"{} {}\".format(bullet_character, element))\n",
    "\n",
    "print_list(['cats', 'in', 'space'])"
   ]
  },
  {
   "cell_type": "code",
   "execution_count": 3,
   "metadata": {},
   "outputs": [
    {
     "name": "stdout",
     "output_type": "stream",
     "text": [
      "['Graham Chapman', 'Eric Idle', 'Terry Jones', 'Michael Palin', 'Terry Gilliam', 'John Cleese', 'Carol Cleveland', 'Ian Davidson', 'John Hughman', 'The Fred Tomlinson Singers', 'Connie Booth', 'Bob Raymond', 'Lyn Ashley', 'Rita Davies', 'Stanley Mason', 'David Ballantyne', 'Donna Reading', 'Peter Brett', 'Maureen Flanagan', 'Katya Wyeth', 'Frank Lester', 'Neil Innes', 'Dick Vosburgh', 'Sandra Richards', 'Julia Breck', 'Nicki Howorth', 'Jimmy Hill', 'Barry Cryer', 'Jeannette Wild', 'Marjorie Wilde', 'Marie Anderson', 'Caron Gardner', 'Nosher Powell', 'Carolae Donoghue', 'Vincent Wong', 'Helena Clayton', 'Nigel Jones', 'Roy Gunson', 'Daphne Davey', 'Stenson Falke', 'Alexander Curry', 'Frank Williams', 'Ralph Wood', 'Rosalind Bailey', 'Marion Mould', 'Sheila Sands', 'Richard Baker', 'Douglas Adams', 'Ewa Aulin', 'Reginald Bosanquet', 'Barbara Lindley', 'Roy Brent', 'Jonas Card', 'Tony Christopher', 'Beulah Hughes', 'Peter Kodak', 'Lulu', 'Jay Neill', 'Graham Skidmore', 'Ringo Starr', 'Fred Tomlinson', 'David Hamilton', 'Suzy Mandel', 'Peter Woods']\n"
     ]
    }
   ],
   "source": [
    "def create_cast_list(filename):\n",
    "    cast_list = []\n",
    "    #use with to open the file filename\n",
    "    #use the for loop syntax to process each line\n",
    "    #and add the actor name to cast_list\n",
    "    with open(filename) as f:\n",
    "        for line in f:\n",
    "            cast_list.append(line.split(',')[0])\n",
    "    return cast_list\n",
    "\n",
    "print(create_cast_list(\"flying_circus_cast.txt\"))"
   ]
  },
  {
   "cell_type": "code",
   "execution_count": 10,
   "metadata": {},
   "outputs": [
    {
     "name": "stdout",
     "output_type": "stream",
     "text": [
      "bookbooksister\n"
     ]
    }
   ],
   "source": [
    "import random\n",
    "# Use an import statement at the top\n",
    "\n",
    "word_file = \"words.txt\"\n",
    "word_list = []\n",
    "\n",
    "#fill up the word_list\n",
    "with open(word_file,'r') as words:\n",
    "    for line in words:\n",
    "        # remove white space and make everything lowercase\n",
    "        word = line.strip().lower()\n",
    "        # don't include words that are too long or too short\n",
    "        if 3 < len(word) < 8:\n",
    "            word_list.append(word)\n",
    "\n",
    "# Add your function generate_password here\n",
    "# It should return a string consisting of three random words \n",
    "# concatenated together without spaces\n",
    "def generate_password():\n",
    "    return random.choice(word_list) + random.choice(word_list) + random.choice(word_list)\n",
    "\n",
    "# test your function\n",
    "print(generate_password())"
   ]
  },
  {
   "cell_type": "code",
   "execution_count": null,
   "metadata": {},
   "outputs": [],
   "source": []
  }
 ],
 "metadata": {
  "kernelspec": {
   "display_name": "Python 3",
   "language": "python",
   "name": "python3"
  },
  "language_info": {
   "codemirror_mode": {
    "name": "ipython",
    "version": 3
   },
   "file_extension": ".py",
   "mimetype": "text/x-python",
   "name": "python",
   "nbconvert_exporter": "python",
   "pygments_lexer": "ipython3",
   "version": "3.6.4"
  }
 },
 "nbformat": 4,
 "nbformat_minor": 2
}
