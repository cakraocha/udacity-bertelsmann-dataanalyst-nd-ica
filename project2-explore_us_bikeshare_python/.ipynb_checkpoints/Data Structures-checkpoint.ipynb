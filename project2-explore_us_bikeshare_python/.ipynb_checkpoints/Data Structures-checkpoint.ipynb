{
 "cells": [
  {
   "cell_type": "code",
   "execution_count": 3,
   "metadata": {},
   "outputs": [
    {
     "name": "stdout",
     "output_type": "stream",
     "text": [
      "<ul>\n",
      "<li>strings</li>\n",
      "<li>2.0</li>\n",
      "<li>True</li>\n",
      "<li>and other types too!</li>\n",
      "</ul>\n"
     ]
    }
   ],
   "source": [
    "def html_list(list_items):\n",
    "    HTML_string = \"<ul>\\n\"\n",
    "    for item in list_items:\n",
    "        HTML_string += \"<li>{}</li>\\n\".format(item)\n",
    "    HTML_string += \"</ul>\"\n",
    "    return HTML_string\n",
    "\n",
    "print(html_list([\"strings\", 2.0, True, \"and other types too!\"]))"
   ]
  },
  {
   "cell_type": "code",
   "execution_count": 4,
   "metadata": {},
   "outputs": [
    {
     "name": "stdout",
     "output_type": "stream",
     "text": [
      "Test 1:\n",
      "*****\n",
      "*   *\n",
      "*   *\n",
      "*   *\n",
      "*****\n",
      "Test 2:\n",
      "**\n",
      "**\n",
      "**\n"
     ]
    }
   ],
   "source": [
    "def starbox(width, height):\n",
    "    \"\"\"print a box made up of asterisks.\n",
    "\n",
    "    width: width of box in characters, must be at least 2\n",
    "    height: height of box in lines, must be at least 2\n",
    "    \"\"\"\n",
    "    print(\"*\" * width) #print top edge of box\n",
    "\n",
    "    # print sides of box\n",
    "    for _ in range(height-2):\n",
    "        print(\"*\" + \" \" * (width-2) + \"*\") \n",
    "\n",
    "    print(\"*\" * width) #print bottom edge of box\n",
    "\n",
    "# Test Cases\n",
    "print(\"Test 1:\")\n",
    "starbox(5, 5) # this prints correctly\n",
    "\n",
    "print(\"Test 2:\")\n",
    "starbox(2, 3)  # this currently prints two lines too tall - fix it!"
   ]
  },
  {
   "cell_type": "code",
   "execution_count": 5,
   "metadata": {},
   "outputs": [
    {
     "name": "stdout",
     "output_type": "stream",
     "text": [
      "expected result: 36, actual result: 36\n"
     ]
    }
   ],
   "source": [
    "def nearest_square(limit):\n",
    "    answer = 0\n",
    "    while (answer+1)**2 < limit:\n",
    "        answer += 1\n",
    "    return answer**2\n",
    "\n",
    "test1 = nearest_square(40)\n",
    "print(\"expected result: 36, actual result: {}\".format(test1))"
   ]
  },
  {
   "cell_type": "code",
   "execution_count": 7,
   "metadata": {},
   "outputs": [
    {
     "name": "stdout",
     "output_type": "stream",
     "text": [
      "Unfortunately, you did not pass. You scored 2 out of 5.\n"
     ]
    }
   ],
   "source": [
    "def check_answer(my_answer, answer):\n",
    "    if my_answer == answer:\n",
    "        return True\n",
    "    else:\n",
    "        return False\n",
    "\n",
    "def check_answers(my_answers,answers):\n",
    "    # Checks the five answers provided to a multiple choice quiz\n",
    "    # and returns the results.\n",
    "    results = []\n",
    "    for i in range(len(my_answers)):\n",
    "        results.append(check_answer(my_answers[i], answers[i]))\n",
    "    count_correct = 0\n",
    "\n",
    "    for result in results:\n",
    "        if result:\n",
    "            count_correct += 1\n",
    "\n",
    "    score_string = \"You scored \" + str(count_correct) + \" out of 5.\"\n",
    "    if count_correct/len(results) > 0.7:\n",
    "        return \"Congratulations, you passed the test! \" + score_string\n",
    "    elif (len(results) - count_correct)/len(results) >= 0.3:\n",
    "        return \"Unfortunately, you did not pass. \" + score_string"
   ]
  },
  {
   "cell_type": "code",
   "execution_count": 13,
   "metadata": {},
   "outputs": [
    {
     "name": "stdout",
     "output_type": "stream",
     "text": [
      "{256, 1, 1024, 4, 900, 1156, 9, 16, 144, 400, 529, 784, 1296, 1681, 1936, 25, 289, 36, 676, 1444, 169, 49, 441, 1849, 64, 576, 961, 1089, 196, 324, 1600, 841, 1225, 81, 729, 1369, 225, 100, 484, 1764, 361, 625, 1521, 121}\n"
     ]
    }
   ],
   "source": [
    "#Define squares that are less than 2000\n",
    "squares = set()\n",
    "\n",
    "# todo: populate \"squares\" with the set of all of the integers less \n",
    "# than 2000 that are square numbers\n",
    "\n",
    "# Note: If you want to call the nearest_square function, you must define\n",
    "# the function on a line before you call it. Feel free to move this code up!\n",
    "def nearest_square(limit):\n",
    "    answer = 0\n",
    "    while (answer+1)**2 < limit:\n",
    "        answer += 1\n",
    "        squares.add(answer**2)\n",
    "\n",
    "nearest_square(2000)\n",
    "print(squares)"
   ]
  },
  {
   "cell_type": "code",
   "execution_count": 14,
   "metadata": {},
   "outputs": [
    {
     "data": {
      "text/plain": [
       "[5, 6, 8, 10]"
      ]
     },
     "execution_count": 14,
     "metadata": {},
     "output_type": "execute_result"
    }
   ],
   "source": [
    "# Define the remove_duplicates function\n",
    "def remove_duplicates(source):\n",
    "    target = []\n",
    "\n",
    "    for element in source:\n",
    "        if element not in target:\n",
    "            target.append(element)\n",
    "\n",
    "    return target\n",
    "\n",
    "remove_duplicates([5, 5, 6, 6, 6, 8, 10])"
   ]
  },
  {
   "cell_type": "code",
   "execution_count": 1,
   "metadata": {},
   "outputs": [
    {
     "name": "stdout",
     "output_type": "stream",
     "text": [
      "{'Malta': 3, 'Sudan': 10, 'Oman': 6, 'Jamaica': 4, 'Pakistan': 8, 'Netherlands': 6, 'Venezuela': 3, 'Tuvalu': 1, 'Kazakhstan': 3, 'Namibia': 4, 'Congo {Democratic Rep}': 4, 'Qatar': 7, 'El Salvador': 5, 'Macedonia': 3, 'Morocco': 9, 'Albania': 8, 'Moldova': 4, 'Djibouti': 2, 'Malaysia': 5, 'Belarus': 2, 'Niger': 2, 'Thailand': 4, 'Burkina': 5, 'Panama': 6, 'Libya': 6, 'Kuwait': 7, 'Dominican Republic': 5, 'Andorra': 3, 'Nauru': 3, 'Guyana': 3, 'Austria': 4, 'Germany': 6, 'Lebanon': 3, 'Bahamas': 6, 'Chad': 3, 'Canada': 6, 'Ivory Coast': 5, 'Papua New Guinea': 5, 'Mali': 8, 'Marshall Islands': 7, 'Angola': 5, 'New Zealand': 7, 'Bulgaria': 2, 'Honduras': 5, 'Comoros': 5, 'Tunisia': 4, 'Peru': 2, 'Greece': 3, 'Montenegro': 2, 'Cambodia': 7, 'St Lucia': 5, 'Ecuador': 4, 'Taiwan': 8, 'Colombia': 2, 'Liechtenstein': 3, 'Monaco': 2, 'Iraq': 4, 'Zambia': 9, 'Sri Lanka': 2, 'Poland': 5, 'Vanuatu': 2, 'Barbados': 3, 'Mauritius': 6, 'Turkmenistan': 6, 'Israel': 4, 'United Arab Emirates': 4, 'Zimbabwe': 5, 'Sao Tome & Principe': 5, 'Vietnam': 5, 'Rwanda': 4, 'Kosovo': 6, 'Nepal': 4, 'Indonesia': 3, 'Suriname': 3, 'Chile': 2, 'Luxembourg': 5, 'Norway': 4, 'Brunei': 3, 'Turkey': 2, 'Mozambique': 4, 'Senegal': 5, 'Algeria': 11, 'Laos': 2, 'Belize': 5, 'Bhutan': 8, 'Russian Federation': 2, 'Madagascar': 3, 'Slovenia': 6, 'Belgium': 2, 'Sweden': 2, 'Fiji': 4, 'Australia': 3, 'Kenya': 3, 'Palau': 4, 'Serbia': 3, 'Nicaragua': 4, 'Hungary': 5, 'Ukraine': 4, 'China': 5, 'Latvia': 3, 'Jordan': 2, 'Mexico': 4, 'Czech Republic': 6, 'Uruguay': 2, 'Liberia': 4, 'Seychelles': 6, 'Saudi Arabia': 6, 'Sierra Leone': 5, 'South Sudan': 7, 'Bolivia': 6, 'Philippines': 5, 'Mauritania': 3, 'United States': 6, 'Central African Rep': 4, 'Guinea': 5, 'Vatican City': 4, 'Maldives': 3, 'Ethiopia': 2, 'France': 5, 'Portugal': 3, 'Bangladesh': 2, 'Antigua & Deps': 9, 'Equatorial Guinea': 4, 'Grenada': 5, 'St Kitts & Nevis': 4, 'Armenia': 2, 'Italy': 3, 'San Marino': 3, 'Samoa': 5, 'Bosnia Herzegovina': 4, 'Trinidad & Tobago': 1, 'Nigeria': 3, 'South Africa': 5, 'Benin': 7, 'Tajikistan': 5, 'Tonga': 5, 'Syria': 6, 'Paraguay': 6, 'Kiribati': 4, 'Gabon': 4, 'Cuba': 4, 'Congo': 3, 'Finland': 4, 'Denmark': 2, 'Botswana': 4, 'United Kingdom': 5, 'Tanzania': 5, 'Myanmar, {Burma}': 4, 'Slovakia': 2, 'Kyrgyzstan': 3, 'Cyprus': 2, 'Korea North': 4, 'Malawi': 2, 'Guinea-Bissau': 6, 'Ghana': 8, 'Lithuania': 2, 'East Timor': 4, 'Eritrea': 6, 'Solomon Islands': 2, 'Haiti': 4, 'Bahrain': 5, 'Azerbaijan': 2, 'Cape Verde': 5, 'Argentina': 3, 'Georgia': 6, 'Togo': 3, 'Gambia': 4, 'Cameroon': 3, 'Switzerland': 5, 'Guatemala': 2, 'Yemen': 3, 'India': 5, 'Micronesia': 1, 'Ireland {Republic}': 1, 'Swaziland': 2, 'Lesotho': 2, 'Korea South': 1, 'Saint Vincent & the Grenadines': 2, 'Mongolia': 3, 'Somalia': 4, 'Egypt': 3, 'Burundi': 3, 'Brazil': 3, 'Dominica': 4, 'Croatia': 1, 'Singapore': 2, 'Japan': 3, 'Romania': 2, 'Spain': 2, 'Uganda': 2, 'Iceland': 1, 'Uzbekistan': 1, 'Afghanistan': 1}\n"
     ]
    }
   ],
   "source": [
    "from countries import country_list # Note: since the list is so large, it's tidier\n",
    "                                   # to put in in a separate file. We'll learn more\n",
    "                                   # about \"import\" later on.\n",
    "\n",
    "country_counts = {}\n",
    "for country in country_list:\n",
    "    if country in country_counts:\n",
    "        country_counts[country] += 1\n",
    "    else:\n",
    "        country_counts[country] = 1\n",
    "\n",
    "print(country_counts)\n",
    "    #todo: insert countries into the country_count dict.\n",
    "    # If the country isn't in the dict already, add it and set the value to 1\n",
    "    # If the country is in the dict, increment its value by one to keep count"
   ]
  },
  {
   "cell_type": "code",
   "execution_count": 2,
   "metadata": {},
   "outputs": [
    {
     "name": "stdout",
     "output_type": "stream",
     "text": [
      "title: Please Please Me, year: 1963\n",
      "title: With the Beatles, year: 1963\n",
      "title: A Hard Day's Night, year: 1964\n",
      "title: Beatles for Sale, year: 1964\n",
      "title: Twist and Shout, year: 1964\n",
      "title: Help, year: 1965\n",
      "title: Rubber Soul, year: 1965\n",
      "title: Revolver, year: 1966\n",
      "title: Sgt. Pepper's Lonely Hearts Club Band, year: 1967\n",
      "title: Magical Mystery Tour, year: 1967\n",
      "title: The Beatles, year: 1968\n",
      "title: Yellow Submarine, year: 1969\n",
      "title: Abbey Road, year: 1969\n",
      "title: Let It Be, year: 1970\n"
     ]
    }
   ],
   "source": [
    "Beatles_Discography = {\"Please Please Me\": 1963, \"With the Beatles\": 1963, \n",
    "    \"A Hard Day's Night\": 1964, \"Beatles for Sale\": 1964, \"Twist and Shout\": 1964,\n",
    "    \"Help\": 1965, \"Rubber Soul\": 1965, \"Revolver\": 1966,\n",
    "    \"Sgt. Pepper's Lonely Hearts Club Band\": 1967,\n",
    "    \"Magical Mystery Tour\": 1967, \"The Beatles\": 1968,\n",
    "    \"Yellow Submarine\": 1969 ,'Abbey Road': 1969,\n",
    "    \"Let It Be\": 1970}\n",
    "\n",
    "for album_title in Beatles_Discography:\n",
    "    print(\"title: {}, year: {}\".format(album_title, Beatles_Discography[album_title]))"
   ]
  },
  {
   "cell_type": "code",
   "execution_count": 3,
   "metadata": {},
   "outputs": [
    {
     "name": "stdout",
     "output_type": "stream",
     "text": [
      "1964\n"
     ]
    }
   ],
   "source": [
    "def most_prolific(discs): \n",
    "#We will store a dictionary of years \n",
    "#and number of albums per year     \n",
    "    years = {} \n",
    "    maxyears = [] \n",
    "    maxnumber = 0 \n",
    "    for disc in discs: \n",
    "        year = discs[disc]\n",
    "        if year in years: \n",
    "            years[year] += 1 \n",
    "        else: \n",
    "            years[year] = 1 \n",
    "\n",
    "#find the year in which the maximum \n",
    "#number of albums was published \n",
    "#there are more elegant ways of accomplishing this, \n",
    "#but the code below works \n",
    "    for year in years:\n",
    "        if years[year] > maxnumber: \n",
    "            maxyears = [] \n",
    "            maxyears.append(year) \n",
    "            maxnumber = years[year] \n",
    "        elif years[year] == maxnumber and not (year in maxyears): \n",
    "            maxyears.append(year) \n",
    "    if (len(maxyears) == 1): \n",
    "        return maxyears[0] \n",
    "    else: \n",
    "        return maxyears\n",
    "\n",
    "print(most_prolific(Beatles_Discography))"
   ]
  },
  {
   "cell_type": "code",
   "execution_count": 2,
   "metadata": {},
   "outputs": [
    {
     "data": {
      "text/plain": [
       "2"
      ]
     },
     "execution_count": 2,
     "metadata": {},
     "output_type": "execute_result"
    }
   ],
   "source": [
    "monthly_takings = {'January': [54, 63], 'February': [64, 60], 'March': [63, 49],\n",
    "                   'April': [57, 42], 'May': [55, 37], 'June': [34, 32],\n",
    "                   'July': [69, 41, 32], 'August': [40, 61, 40], 'September': [51, 62],\n",
    "                   'October': [34, 58, 45], 'November': [67, 44], 'December': [41, 58]}\n",
    "\n",
    "len(monthly_takings['January'])"
   ]
  },
  {
   "cell_type": "code",
   "execution_count": null,
   "metadata": {},
   "outputs": [],
   "source": []
  }
 ],
 "metadata": {
  "kernelspec": {
   "display_name": "Python 3",
   "language": "python",
   "name": "python3"
  },
  "language_info": {
   "codemirror_mode": {
    "name": "ipython",
    "version": 3
   },
   "file_extension": ".py",
   "mimetype": "text/x-python",
   "name": "python",
   "nbconvert_exporter": "python",
   "pygments_lexer": "ipython3",
   "version": "3.6.4"
  }
 },
 "nbformat": 4,
 "nbformat_minor": 2
}
